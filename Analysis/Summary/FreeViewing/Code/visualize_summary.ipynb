{
 "cells": [
  {
   "cell_type": "code",
   "execution_count": 12,
   "id": "180d018e-15ce-4b37-bda0-138e52d1fea2",
   "metadata": {},
   "outputs": [
    {
     "name": "stdout",
     "output_type": "stream",
     "text": [
      "Optimization terminated successfully.\n",
      "         Current function value: 0.656073\n",
      "         Iterations 6\n",
      "                           Logit Regression Results                           \n",
      "==============================================================================\n",
      "Dep. Variable:              Attention   No. Observations:                  576\n",
      "Model:                          Logit   Df Residuals:                      568\n",
      "Method:                           MLE   Df Model:                            7\n",
      "Date:                Mon, 06 May 2024   Pseudo R-squ.:                 0.04788\n",
      "Time:                        18:08:38   Log-Likelihood:                -377.90\n",
      "converged:                       True   LL-Null:                       -396.90\n",
      "Covariance Type:            nonrobust   LLR p-value:                 3.018e-06\n",
      "===============================================================================\n",
      "                  coef    std err          z      P>|z|      [0.025      0.975]\n",
      "-------------------------------------------------------------------------------\n",
      "const          -1.3066      1.296     -1.008      0.313      -3.847       1.233\n",
      "NumFix          0.0383      0.018      2.097      0.036       0.003       0.074\n",
      "AvgFixDur       0.0225      0.016      1.438      0.150      -0.008       0.053\n",
      "NumBlink       -0.0238      0.026     -0.916      0.360      -0.075       0.027\n",
      "AvgBlinkDur    -0.0197      0.008     -2.385      0.017      -0.036      -0.004\n",
      "AvgPupDia       0.1378      0.167      0.826      0.409      -0.189       0.465\n",
      "VarPupDia      -1.7743      0.905     -1.960      0.050      -3.548      -0.000\n",
      "OffStimFram     0.0081      0.006      1.438      0.150      -0.003       0.019\n",
      "===============================================================================\n"
     ]
    }
   ],
   "source": [
    "# By default, Jupyter Notebooks and JupyterLab will use your current working directory as the root directory.\n",
    "# Cur dir: /Analysis/Summary/FreeViewing/Code\n",
    "import pandas as pd\n",
    "import statsmodels.api as sm\n",
    "\n",
    "df = pd.read_csv('../../../../Analysis/Summary/FreeViewing/Data/FreeViewing_Summary_15sec.csv')\n",
    "df['Attention'] = df['Attention'].astype(int)\n",
    "\n",
    "# Define the predictor variables (X) and the target variable (y)\n",
    "X = df[['NumFix', 'AvgFixDur', 'NumBlink', 'AvgBlinkDur', 'AvgPupDia', 'VarPupDia', 'OffStimFram']]\n",
    "y = df['Attention']\n",
    "\n",
    "# Add a constant to the model (intercept)\n",
    "X = sm.add_constant(X)\n",
    "\n",
    "# Fit a logistic regression model\n",
    "logit_model = sm.Logit(y, X).fit()\n",
    "\n",
    "# Summarize the results\n",
    "print(logit_model.summary())"
   ]
  }
 ],
 "metadata": {
  "kernelspec": {
   "display_name": "Python 3 (ipykernel)",
   "language": "python",
   "name": "python3"
  },
  "language_info": {
   "codemirror_mode": {
    "name": "ipython",
    "version": 3
   },
   "file_extension": ".py",
   "mimetype": "text/x-python",
   "name": "python",
   "nbconvert_exporter": "python",
   "pygments_lexer": "ipython3",
   "version": "3.10.11"
  }
 },
 "nbformat": 4,
 "nbformat_minor": 5
}
